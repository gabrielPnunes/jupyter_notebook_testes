{
  "nbformat": 4,
  "nbformat_minor": 0,
  "metadata": {
    "colab": {
      "provenance": []
    },
    "kernelspec": {
      "name": "python3",
      "display_name": "Python 3"
    },
    "language_info": {
      "name": "python"
    }
  },
  "cells": [
    {
      "cell_type": "markdown",
      "source": [
        "***\n",
        "## **<center>Lista de Exercícios 1 - Python Express</center>**\n",
        "\n",
        "\n",
        "**<center>Introdução a Ciência de Dados</center>**\n",
        "***\n",
        "\n",
        "<br>\n",
        "\n",
        "Segue uma lista de exercícios abordando o conteúdo inicial para a programação em Python.\n",
        "\n",
        "Cada exercício deve ser respondido em uma célula específica.\n",
        "\n",
        "\n",
        "1) Elabore um código que imprima a mensagem *\"Olá terráqueos!!\"* na tela.\n",
        "\n",
        "\n",
        "2) Elabore um código que peça um número e então mostre a mensagem: *\"O número informado foi [número].\"*\n",
        "\n",
        "\n",
        "3) Elabore um código que peça dois números e imprima a soma.\n",
        "\n",
        "\n",
        "4) Elabore um código que peça as 4 notas bimestrais e mostre a média.\n",
        "\n",
        "5) Elabore um código que converta metros para centímetros.\n",
        "\n",
        "\n",
        "6) Elabore um código que peça o raio de um círculo, calcule e mostre sua área.\n",
        "\n",
        "7) Elabore um código que calcule a área de um quadrado, em seguida mostre o dobro desta área para o usuário.\n",
        "\n",
        "\n",
        "8) Elabore um código que pergunte quanto você ganha por hora e o número de horas trabalhadas no mês. Calcule e mostre o total do seu salário no referido mês em uma mensagem amigável.\n",
        "\n",
        "\n",
        "9) Elabore um código que peça a temperatura em graus Fahrenheit, transforme e mostre a temperatura em graus Celsius.\n",
        "** Onde C = 5 * ((F-32) / 9)**.\n",
        "\n",
        "\n",
        "10) Elabore um código que peça a temperatura em graus Celsius, transforme e mostre em graus Fahrenheit.\n",
        "\n",
        "\n",
        "11) Elabore um código que peça 2 números inteiros e um número real. Calcule e mostre:\n",
        "* o produto do dobro do primeiro com metade do segundo .\n",
        "* a soma do triplo do primeiro com o terceiro.\n",
        "* o terceiro elevado ao cubo.\n",
        "\n",
        "12) Elabore um código que receba os dados de entrada a altura de uma pessoa, e informe qual seria o peso ideal, usando a seguinte fórmula: (72.7*altura) - 58"
      ],
      "metadata": {
        "id": "mjOWECpRg_o_"
      }
    },
    {
      "cell_type": "code",
      "execution_count": null,
      "metadata": {
        "id": "X7CoGaBLg-uZ",
        "colab": {
          "base_uri": "https://localhost:8080/"
        },
        "outputId": "a2107d4c-75e6-43d6-87f2-6a8a0bb6c095"
      },
      "outputs": [
        {
          "output_type": "stream",
          "name": "stdout",
          "text": [
            "Olá terráqueos\n"
          ]
        }
      ],
      "source": [
        "# 1) Elabore um código que imprima a mensagem *\"Olá terráqueos!!\"* na tela.\n",
        "\n",
        "print(\"Olá terráqueos\")"
      ]
    },
    {
      "cell_type": "code",
      "source": [
        "# 2) Elabore um código que peça um número e então mostre a mensagem: *\"O número informado foi [número].\"*\n",
        "\n",
        "numero1 = int(input(\"Digite um número: \"))\n",
        "print(\"O número que digitado foi: {}\".format(numero1))"
      ],
      "metadata": {
        "id": "whVDusCV43-I",
        "outputId": "486fffe4-25b0-4b15-f13b-e564a636c1f6",
        "colab": {
          "base_uri": "https://localhost:8080/"
        }
      },
      "execution_count": null,
      "outputs": [
        {
          "output_type": "stream",
          "name": "stdout",
          "text": [
            "Digite um número: 5\n",
            "O número que digitado foi: 5\n"
          ]
        }
      ]
    },
    {
      "cell_type": "code",
      "source": [
        "# 3) Elabore um código que peça dois números e imprima a soma.\n",
        "\n",
        "n1 = int(input(\"Digite o primeiro número: \"))\n",
        "n2 = int(input(\"Digite o segundo número: \"))\n",
        "s = n1 + n2\n",
        "print(\"A soma dos seguintes números {} e {} é {} \".format(n1, n2, s))"
      ],
      "metadata": {
        "id": "eglysXOM5QnC"
      },
      "execution_count": null,
      "outputs": []
    },
    {
      "cell_type": "code",
      "source": [
        "# 4) Elabore um código que peça as 4 notas bimestrais e mostre a média.\n",
        "\n",
        "not1 = float(input('Digite a primeira nota: '))\n",
        "not2 = float(input('Digite a segunda nota: '))\n",
        "not3 = float(input('Digite a terceira nota: '))\n",
        "not4 = float(input('Digite a quarta nota: '))\n",
        "med = (not1 + not2 + not3 + not4) / 4\n",
        "print('A primeira nota é {}'.format(not1))\n",
        "print('A segunda nota é {}'.format(not2))\n",
        "print('A segunda nota é {}'.format(not3))\n",
        "print('A segunda nota é {}'.format(not4))\n",
        "print('A média entre as notas {:.2f}, {:.2f}, {:.2f} e {:.2f} é igual a {:.2f}.'.format(not1, not2, not3, not4, med))"
      ],
      "metadata": {
        "id": "rmrZmhDq6AQT",
        "outputId": "90aa452e-d969-4ba7-b1cc-65a963463b2a",
        "colab": {
          "base_uri": "https://localhost:8080/"
        }
      },
      "execution_count": 7,
      "outputs": [
        {
          "output_type": "stream",
          "name": "stdout",
          "text": [
            "Digite a primeira nota: 9\n",
            "Digite a segunda nota: 8\n",
            "Digite a terceira nota: 7\n",
            "Digite a quarta nota: 5\n",
            "A primeira nota é 9.0\n",
            "A segunda nota é 8.0\n",
            "A segunda nota é 7.0\n",
            "A segunda nota é 5.0\n",
            "A média entre as notas 9.00, 8.00, 7.00 e 5.00 é igual a 7.25.\n"
          ]
        }
      ]
    },
    {
      "cell_type": "code",
      "source": [
        "# 5) Elabore um código que converta metros para centímetros.\n",
        "\n",
        "metros = float(input(\"Quantos metros: \"))\n",
        "cm = metros * 100\n",
        "print(\"{:.0f} metros equivale a: {:.0f}\".format(metros, cm))"
      ],
      "metadata": {
        "id": "Qk8Qx9qT7NP4",
        "outputId": "ada99f6f-21ca-4f4d-9b8e-39e54e84186a",
        "colab": {
          "base_uri": "https://localhost:8080/"
        }
      },
      "execution_count": 11,
      "outputs": [
        {
          "output_type": "stream",
          "name": "stdout",
          "text": [
            "Quantos metros: 100\n",
            "100 metros equivale a: 10000\n"
          ]
        }
      ]
    },
    {
      "cell_type": "code",
      "source": [
        "# 6) Elabore um código que peça o raio de um círculo, calcule e mostre sua área.\n",
        "\n",
        "from math import pi as pi\n",
        "raio = float(input(\"Digite o raio de um círculo: \"))\n",
        "diametro = raio**2 *  pi\n",
        "print(\"A área do seu círculo é {:.2f}\".format(diametro))"
      ],
      "metadata": {
        "id": "XmB7_V-c8RWL",
        "colab": {
          "base_uri": "https://localhost:8080/"
        },
        "outputId": "46e834af-db38-493d-a8eb-120b085e93c0"
      },
      "execution_count": 18,
      "outputs": [
        {
          "output_type": "stream",
          "name": "stdout",
          "text": [
            "Digite o raio de um círculo: 12.25\n",
            "A área do seu círculo é 471.44\n"
          ]
        }
      ]
    },
    {
      "cell_type": "code",
      "source": [
        "# 7) Elabore um código que calcule a área de um quadrado, em seguida mostre o dobro desta área para o usuário.\n",
        "\n",
        "quadr = float(input(\"Digite um lado do quadrado: \"))\n",
        "a_quadr = quadr * quadr\n",
        "a_quadr2 = a_quadr * 2\n",
        "print(\"A área de um quadrado é {} e o seu dobro é {}\".format(a_quadr, a_quadr2))"
      ],
      "metadata": {
        "id": "GIZa2eNV94Dn",
        "outputId": "1c364c58-5755-4b2d-b2a9-d9123b643a63",
        "colab": {
          "base_uri": "https://localhost:8080/"
        }
      },
      "execution_count": 13,
      "outputs": [
        {
          "output_type": "stream",
          "name": "stdout",
          "text": [
            "Digite um lado do quadrado: 5\n",
            "A área de um quadrado é 25.0 e o seu dobro é 50.0\n"
          ]
        }
      ]
    },
    {
      "cell_type": "code",
      "source": [
        "# 8) Elabore um código que pergunte quanto você ganha por hora e o número de horas trabalhadas no mês. Calcule e mostre o total do seu salário no referido mês em uma mensagem amigável.\n",
        "\n",
        "sal_hr = float(input(\"Digite quanto você por hora: \"))\n",
        "hrs_trab = float(input(\"Digite quantas você trabalha no mês: \"))\n",
        "sal = sal_hr * hrs_trab\n",
        "print(\"Levando em consideração o quanto você ganha por hora que é R${}, e quantas horas trabalha por mês que é {} horas. Você ganha mensalmente {}\".format(sal_hr, hrs_trab, sal))"
      ],
      "metadata": {
        "colab": {
          "base_uri": "https://localhost:8080/"
        },
        "id": "5oCCHrN4DBNA",
        "outputId": "bc4676b0-e275-475f-def9-1ee6d2d8477e"
      },
      "execution_count": 21,
      "outputs": [
        {
          "output_type": "stream",
          "name": "stdout",
          "text": [
            "Digite quanto você por hora: 85.125\n",
            "Digite quantas você trabalha no mês: 120\n",
            "Levando em consideração o quanto você ganha por hora que é R$85.125, e quantas horas trabalha por mês que é 120.0 horas. Você ganha mensalmente 10215.0\n"
          ]
        }
      ]
    },
    {
      "cell_type": "code",
      "source": [
        "# 9) Elabore um código que peça a temperatura em graus Fahrenheit, transforme e mostre a temperatura em graus Celsius. ** Onde C = 5 * ((F-32) / 9)**.\n",
        "\n",
        "temp_F = float(input(\"Digite a temperatura em Fahrenheit: \"))\n",
        "temp_C = 5 * (( temp_F-32) / 9)\n",
        "print(\"A temperatura de {:.2f}°F em °C é {:.2f}°C\".format(temp_F, temp_C))"
      ],
      "metadata": {
        "id": "xsHtIUSjAqD5",
        "outputId": "8603974e-16ff-4765-9535-f00731f3db0e",
        "colab": {
          "base_uri": "https://localhost:8080/"
        }
      },
      "execution_count": 25,
      "outputs": [
        {
          "output_type": "stream",
          "name": "stdout",
          "text": [
            "Digite a temperatura em Fahrenheit: 32.589\n",
            "A temperatura de 32.59°F em °C é 0.33°C\n"
          ]
        }
      ]
    },
    {
      "cell_type": "code",
      "source": [
        "# 10) Elabore um código que peça a temperatura em graus Celsius, transforme e mostre em graus Fahrenheit.\n",
        "\n",
        "temp_C2 = float(input(\"Digite a temperatura em Celsius: \"))\n",
        "temp_F2 = ( temp_C2 * 1.8) + 32\n",
        "print(\"A temperatura de {:.2f}°C em °F é {:.2f}°F\".format(temp_C2, temp_F2))"
      ],
      "metadata": {
        "id": "IpHXmodOBdPS",
        "colab": {
          "base_uri": "https://localhost:8080/"
        },
        "outputId": "30e0a734-ac0b-4975-dfff-668bc80673d7"
      },
      "execution_count": 27,
      "outputs": [
        {
          "output_type": "stream",
          "name": "stdout",
          "text": [
            "Digite a temperatura em Celsius: 0.526\n",
            "A temperatura de 0.53°C em °F é 32.95°F\n"
          ]
        }
      ]
    },
    {
      "cell_type": "code",
      "source": [
        "# 11) Elabore um código que peça 2 números inteiros e um número real. Calcule e mostre:\n",
        "\n",
        "num1 = int(input(\"Digite um número inteiro: \"))\n",
        "num2 = int(input(\"Digite outro número inteiro: \"))\n",
        "num3 = float(input(\"Digite um número real: \"))\n",
        "soma = num1 + num2 + num3\n",
        "print(\"A soma dos dois números inteiros {} e {} com o número real {:.2f} é {:.2f}\".format(num1, num2, num3, soma))"
      ],
      "metadata": {
        "id": "An07jdmpEKnD",
        "colab": {
          "base_uri": "https://localhost:8080/"
        },
        "outputId": "19636518-f874-40a5-b47d-1bc57a285799"
      },
      "execution_count": 31,
      "outputs": [
        {
          "output_type": "stream",
          "name": "stdout",
          "text": [
            "Digite um número inteiro: 5\n",
            "Digite outro número inteiro: 9\n",
            "Digite um número real: 2.589845454556\n",
            "A soma dos dois números inteiros 5 e 9 com o número real 2.59 é 16.59\n"
          ]
        }
      ]
    },
    {
      "cell_type": "code",
      "source": [
        "# 12) Elabore um código que receba os dados de entrada a altura de uma pessoa, e informe qual seria o peso ideal, usando a seguinte fórmula: (72.7*altura) - 58\n",
        "\n",
        "alt = float(input(\"Digite a sua altura: \"))\n",
        "peso = (72.7 * alt) - 58\n",
        "print(\"O peso ideal seguindo a formula e levando em consideração a altura de {} é {:.2f}\".format(alt, peso))"
      ],
      "metadata": {
        "colab": {
          "base_uri": "https://localhost:8080/"
        },
        "id": "i8o1UpRwIthH",
        "outputId": "a930391f-2233-4ed6-da80-9e91869e75ab"
      },
      "execution_count": 32,
      "outputs": [
        {
          "output_type": "stream",
          "name": "stdout",
          "text": [
            "Digite a sua altura: 1.80\n",
            "O peso ideal seguindo a formula e levando em consideração a altura de 1.8 é 72.86\n"
          ]
        }
      ]
    }
  ]
}